{
 "cells": [
  {
   "cell_type": "markdown",
   "metadata": {},
   "source": [
    "# Subtask2:"
   ]
  },
  {
   "cell_type": "code",
   "execution_count": 26,
   "metadata": {},
   "outputs": [
    {
     "name": "stdout",
     "output_type": "stream",
     "text": [
      "TTCTTGTTTTCACACTCCGATTGAGAAATCCGCGTGGGAGTTCGAAGTCGATCCCATTTGGTCAAGATGGTATCAATTGTACCCCCAGATACATTCGTAGTTGTGTAAGATTAATCAGCAATCGGGTCCATGGAAATCTCTCGTCAGATCTCTAAAGGGCTTAGATATGAGTCGGGGCCGATTCGTGGGCAAAGCAGTACAGATTTGCTCGGAAGATCATGACGACTCAGGGTACAACCCCAGATTAAGCTTAGGTCATACACGGACTAGTATAATGCAGTGAGTCACACAGTTCTAAACGGCTTCGCTATTCAGTGCCACTGTTGTATACAAACATACCGGCCAATCACTTCTCTACGGGTAAGTTGATCCTGTAGTTAATAATTCGGTGTCCCGCCGGTCAAGGAGAGGCGTTATGCGGACTTGGCATGGTTTCGATTCCTACTCAATACTCGGCATCCTCCCAGATCCCGTTCCAATGACTGTCTTGCCTGTGGATAGGCTACCCTTGTTCAGGGAGCGAAAAGCTGTAAAGCTTTCTCACCCCTATAATGCTTTTGTAGCTCTGGACAAGCACGATATCGTACGCACTGCTATTTCGGAGGGCTAACGCCTCTACCAGATGCTCCTACATAAAGCTAGATATTGAGCGGTTGCCCAGGTCTGGGGATCCAGAGGCCGCTTATGAAAATACGACCACTGGTGCTATCTACCTACTGTCAACTAATTTCTCATACCATTTTCGGTTACATCCCAGCCAGGGGAGTCAAATAACGAGGACGGCGAATATATGTGCACGATATGTCCTCCAAATCTCCGGGTCCGGTCATCGGATAGATCAGTCATTCTATGGGATGCAGCGAGTGGCATACTTGGAAATGGACCCCTAACCGCATACTAAAGCTGTCGTTGGTTCTACGCATTCCGCAGGATAAATGCGGTTTTTGGACTCCATCGTAATTCCCAGCTGATTAGACGGTGCACGTCTCACTCAGTTGTGGTAGGCTAGATTTTACTCGTATCCGGGACTCTAACTGGCACCGGACCGGCCAGTGTCGTTTCAGTGGACCCTCCGGTACCTGTGCTCATTGTAACTAGGAAGAGAATCGCGCGGTAATGCGTTCAACCTGACAGACG\n",
      "TGTGTTTTTGACTGGAAAATTCGCCGTTTGGGGGCCTATTTTATTTCGATGCGAAAACTTCTAGCATGGGTATGAGCGGGATTGATTATGAGCGCACATCTAATCACACTAACGTATTATAAATGCTCGAAGTCTACTTTCCACAAGAGATTTGCAGGACCGAGTGCAACGCCGCTGCTGTGACATGGGTCGGGCGATTCGATTCAATTCCTTTCGTTGATTGGTTATACCCTTTATACGAAGTCTCTACCCCGAACTTGCGGAACATCGTCATCCACTCGGTTTTTTAGGATTAAGTGCTGAGATTTATATCGGGGAGCTCCGTTAATTGGAGGAAGCTGGCCCTCATCTAAAGCTGTGAGCCTGGATCGCCATCTGCAAGCCTCATCATAGGGCTTAGTTGGCCGGATGCCGGAGACTTAAGTGATCTGCTTAATGTTGCGCCGGTGCTGCTAACCGGACAGGATAAAAGGCGGAGGGGAGATGACGCGTGTGGCGACACCATACTATGCACGAGGCGCCAGACTGCAACTCGCTCGAGTAGGCAGGGGCTAGGTCTCAGCTCCTACGCTAGGAAGTCAGCGACCGCCCAACTTATGTGTAACGAATCCTCACAGCGATGGGAGCACACTGTTGCCTATTGGCAGCTGCGAGACTGTAAGTGGCGATGTCGTAATACACGAAATCGCTAGACTCGGTGAACTAACCTGTCGAAGTGGGAGAGTTGGAATGTCGTGTATAATGGGATCTGGTTATCTGGAACAAGCTCGGACCAGATTAAAGTGGATGGAAAAGCATGGTCAATGTCCTTGGAACTAGTCTAATTTGATTTAACAGCAAAACTTTTCGTCAAAACCACTGCTCGCGGACAACCTTCCGCATTCGCTGTCTCATAGTCCTAAACACAATGATTCAAATTGACACAACATAAAGTACGGTGAGCGAAATTGTACGTTATGCTCGAGCACCTCGGATGCGCATACTGAATAGCGGTTGGGTTAACTAGGCGCACCTGTCCTTTACTGATAGCATTGACCGTTGTACACCGCGACAGGTGGTACTCTTTGCCGTCAGTATAGTCGCTAGCCGTGACCTACGAGACCATGTCAACGAGTCCCCTAGACATCGCCACACTAA\n",
      "828\n"
     ]
    }
   ],
   "source": [
    "str1 = input()\n",
    "str2 = input()\n",
    "c=0\n",
    "for i in range(0,len(str1)):\n",
    "    if(str1[i]!=str2[i]):\n",
    "        c+=1\n",
    "print(c)        "
   ]
  },
  {
   "cell_type": "markdown",
   "metadata": {},
   "source": [
    "# Subtask3:"
   ]
  },
  {
   "cell_type": "code",
   "execution_count": null,
   "metadata": {},
   "outputs": [],
   "source": [
    "def checkstr(a,b):\n",
    "    count = 0\n",
    "    for i in range(0,len(a)):\n",
    "        if(a[i]!=b[i]):\n",
    "            count+=1\n",
    "    return count        \n",
    "            \n",
    "str1 = input()\n",
    "str2 = input()\n",
    "t = int(input())\n",
    "ans=\"\"\n",
    "li=[]\n",
    "c\n",
    "for i in range(0,len(str2)-len(str1)+1):\n",
    "    ans=\"\"\n",
    "    \n",
    "    c=0\n",
    "    for j in range(i,len(str1)+i):\n",
    "        ans+=str2[j]\n",
    "    c = checkstr(str1,ans)\n",
    "    if(c<=t):\n",
    "        li.append(i)\n",
    "        \n",
    "for i in range(0,len(li)):\n",
    "    print(li[i], end =\" \")\n",
    "      "
   ]
  },
  {
   "cell_type": "markdown",
   "metadata": {},
   "source": [
    "# Subtask4:"
   ]
  },
  {
   "cell_type": "code",
   "execution_count": 72,
   "metadata": {},
   "outputs": [
    {
     "name": "stdout",
     "output_type": "stream",
     "text": [
      "ACGTTGCATGTCGCATGATGCATGAGAGCT\n",
      "4\n",
      "1\n",
      "ATGT\n",
      "GATG\n",
      "ATGC\n"
     ]
    }
   ],
   "source": [
    "def checkstr(a,b):\n",
    "    count = 0\n",
    "    #a= sorted(a)\n",
    "    #b=sorted(b)\n",
    "    for i in range(0,len(a)):\n",
    "        if(a[i]!=b[i]):\n",
    "            count+=1\n",
    "    return count   \n",
    "\n",
    "str1 = input()\n",
    "k = int(input())\n",
    "d = int(input())\n",
    "ans=\"\"\n",
    "li=[]\n",
    "for i in range(0,len(str1)-k+1):\n",
    "    ans=\"\"\n",
    "    for j in range(i,i+k):\n",
    "        ans+=str1[j]\n",
    "    li.append(ans)\n",
    "\n",
    "ans1=\"\"\n",
    "li1=[]\n",
    "show=[]\n",
    "cnt=0\n",
    "c=0\n",
    "a={}\n",
    "max_ans=0\n",
    "for i in range(0,len(li)):\n",
    "    ans1 = li[i]\n",
    "    cnt=0\n",
    "    for j in range(0,len(li)):\n",
    "        c=0\n",
    "        c = checkstr(ans1,li[j])\n",
    "        if(c<=d):\n",
    "            cnt+=1;\n",
    "    a={\n",
    "        ans1:cnt\n",
    "    }\n",
    "    \n",
    "    li1.append(cnt)\n",
    "    show.append(ans1)\n",
    "    \n",
    "\n",
    "app = max(li1)\n",
    "\n",
    "amar_list=[]\n",
    "for i in range(0,len(li1)):\n",
    "    if(li1[i]==app):\n",
    "        amar_list.append(i)\n",
    "for i in amar_list:\n",
    "    print(show[i])\n"
   ]
  },
  {
   "cell_type": "markdown",
   "metadata": {},
   "source": [
    "# Sir, I think subtask5 of this set has not defined properly. I think the output of this problem are not correct. Does the problem say that find the most frequent k mer and find their reverse complement? I do so but my output are not correct. As i dont understand it properly, I am unable to solve it.   "
   ]
  },
  {
   "cell_type": "markdown",
   "metadata": {},
   "source": [
    "# Subtask:6"
   ]
  },
  {
   "cell_type": "code",
   "execution_count": 92,
   "metadata": {},
   "outputs": [
    {
     "name": "stdout",
     "output_type": "stream",
     "text": [
      "TCTCACGATTTTACCGGTAAACGTGC\n",
      "3889590858088889\n"
     ]
    }
   ],
   "source": [
    "txt = input()\n",
    "a = {'A':0, 'C':1, 'G':2, 'T':3}\n",
    "ans = 0\n",
    "\n",
    "for i in range(len(txt)):\n",
    "    ans+=a[txt[i]] * pow(4,len(txt)-i-1)\n",
    "print(ans)    "
   ]
  },
  {
   "cell_type": "markdown",
   "metadata": {},
   "source": [
    "# Subtask:7"
   ]
  },
  {
   "cell_type": "code",
   "execution_count": 28,
   "metadata": {},
   "outputs": [
    {
     "name": "stdout",
     "output_type": "stream",
     "text": [
      "6415\n",
      "11\n",
      "AAAACGCAATT\n"
     ]
    }
   ],
   "source": [
    "index = int(input())\n",
    "k = int(input())\n",
    "n = index\n",
    "li=[]\n",
    "a = {'A':0, 'C':1, 'G':2, 'T':3}\n",
    "\n",
    "for i in range(0,k):\n",
    "    index = index//4\n",
    "   \n",
    "    rem = n%4\n",
    "    n = index\n",
    "    \n",
    "    li.append(rem)\n",
    "\n",
    "sum1=\"\"    \n",
    "  \n",
    "for i in range(len(li)):\n",
    "    if(li[i]==0):\n",
    "        sum1+='A'\n",
    "    elif(li[i]==1):\n",
    "        sum1+='C'\n",
    "    elif(li[i]==2):\n",
    "        sum1+='G'\n",
    "    else:\n",
    "        sum1+='T' \n",
    "        \n",
    "ans=\"\"        \n",
    "for i in range(len(sum1)-1,-1,-1):\n",
    "    ans+=sum1[i]\n",
    "print(ans)    \n",
    "   \n"
   ]
  },
  {
   "cell_type": "code",
   "execution_count": null,
   "metadata": {},
   "outputs": [],
   "source": []
  }
 ],
 "metadata": {
  "kernelspec": {
   "display_name": "Python 3",
   "language": "python",
   "name": "python3"
  },
  "language_info": {
   "codemirror_mode": {
    "name": "ipython",
    "version": 3
   },
   "file_extension": ".py",
   "mimetype": "text/x-python",
   "name": "python",
   "nbconvert_exporter": "python",
   "pygments_lexer": "ipython3",
   "version": "3.8.5"
  }
 },
 "nbformat": 4,
 "nbformat_minor": 4
}
