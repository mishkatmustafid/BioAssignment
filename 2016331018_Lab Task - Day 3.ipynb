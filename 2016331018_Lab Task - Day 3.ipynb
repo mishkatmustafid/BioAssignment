{
 "cells": [
  {
   "cell_type": "markdown",
   "metadata": {},
   "source": [
    "## Problem 1 : Find a position in a genome minimizing the skew"
   ]
  },
  {
   "cell_type": "code",
   "execution_count": null,
   "metadata": {},
   "outputs": [],
   "source": [
    "# x=input()\n",
    "# x=\"CCTATCGGTGGATTAGCATGTCCCTGTACGTTTCGCCGCGAACTAGTTCACACGGCTTGATGGCAAATGGTTTTTCCGGCGACCGTAATCGTCCACCGAG\"\n",
    "x=input()\n",
    "c=0\n",
    "mn=len(x)\n",
    "ans=[]\n",
    "ans.append(str(0))\n",
    "# print(len(x))\n",
    "for i in range(len(x)):\n",
    "    if(x[i]=='C'):c-=1\n",
    "    elif(x[i]=='G'):c+=1\n",
    "    if(c<mn):\n",
    "        mn=c\n",
    "#         print(c)\n",
    "    ans.append(str(c))\n",
    "# for i in range(len(ans)):\n",
    "#     print(str(i) + ' '+ans[i])\n",
    "for i in range(len(ans)):\n",
    "    if(ans[i]==str(mn)):print(i,end=\" \")"
   ]
  },
  {
   "cell_type": "markdown",
   "metadata": {},
   "source": [
    "## Problem 2 : Find patterns forming clumps in a string"
   ]
  },
  {
   "cell_type": "code",
   "execution_count": 2,
   "metadata": {},
   "outputs": [
    {
     "name": "stdout",
     "output_type": "stream",
     "text": [
      "ACGTACGT\n",
      "1\n",
      "5\n",
      "2\n",
      "A\n",
      "C\n",
      "G\n",
      "T\n",
      "C\n",
      "G\n",
      "T\n",
      "A\n",
      "G\n",
      "T\n",
      "A\n",
      "C\n",
      "T\n",
      "A\n",
      "C\n",
      "G\n",
      "\n"
     ]
    }
   ],
   "source": [
    "txt=input()\n",
    "k=int(input())\n",
    "L=int(input())\n",
    "t=int(input())\n",
    "\n",
    "# ans=set()\n",
    "ans=[]\n",
    "for i in range(len(txt)-L+1):\n",
    "    for j in range(i,i+L-k):\n",
    "        cur=txt[j:j+k]\n",
    "        print(cur)\n",
    "        if cur in ans:continue\n",
    "        c=0\n",
    "        for m in range(j,j+L-k):\n",
    "            if(cur==txt[m:m+k]):c+=1\n",
    "        if(c>=t):ans.append(cur)\n",
    "#     print(len(txt)-L+1-i,end=\" \")\n",
    "\n",
    "print(\"\")\n",
    "final=[]\n",
    "for i in ans:\n",
    "    if i not in final:\n",
    "        final.append(i)\n",
    "        print(i,end=\" \")"
   ]
  },
  {
   "cell_type": "markdown",
   "metadata": {},
   "source": [
    "## Problem 3 : Find a median string"
   ]
  },
  {
   "cell_type": "code",
   "execution_count": 26,
   "metadata": {},
   "outputs": [
    {
     "name": "stdout",
     "output_type": "stream",
     "text": [
      "mishkat\n"
     ]
    },
    {
     "data": {
      "text/plain": [
       "1"
      ]
     },
     "execution_count": 26,
     "metadata": {},
     "output_type": "execute_result"
    }
   ],
   "source": [
    "x=\"mishkatmustafid\"\n",
    "sub=x[:7]\n",
    "print(sub)\n",
    "\n",
    "\"aaa\".count(\"aa\")"
   ]
  },
  {
   "cell_type": "markdown",
   "metadata": {},
   "source": [
    "## Problem 4 : Find a Profile-most probable k-mer in a string"
   ]
  },
  {
   "cell_type": "code",
   "execution_count": null,
   "metadata": {},
   "outputs": [],
   "source": []
  },
  {
   "cell_type": "markdown",
   "metadata": {},
   "source": [
    "## Problem 5 : Implement Greedy Motif Search"
   ]
  },
  {
   "cell_type": "code",
   "execution_count": null,
   "metadata": {},
   "outputs": [],
   "source": []
  }
 ],
 "metadata": {
  "kernelspec": {
   "display_name": "Python 3",
   "language": "python",
   "name": "python3"
  },
  "language_info": {
   "codemirror_mode": {
    "name": "ipython",
    "version": 3
   },
   "file_extension": ".py",
   "mimetype": "text/x-python",
   "name": "python",
   "nbconvert_exporter": "python",
   "pygments_lexer": "ipython3",
   "version": "3.8.5"
  }
 },
 "nbformat": 4,
 "nbformat_minor": 4
}
