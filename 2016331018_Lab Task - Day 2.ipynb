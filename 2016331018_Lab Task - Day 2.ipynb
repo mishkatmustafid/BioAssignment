{
 "cells": [
  {
   "cell_type": "markdown",
   "metadata": {},
   "source": [
    "## Problem 1 : Find the reverse complement of a DNA string"
   ]
  },
  {
   "cell_type": "code",
   "execution_count": 36,
   "metadata": {},
   "outputs": [
    {
     "name": "stdout",
     "output_type": "stream",
     "text": [
      "TTCTTGTTTTCACACTCCGATTGAGAAATCCGCGTGGGAGTTCGAAGTCGATCCCATTTGGTCAAGATGGTATCAATTGTACCCCCAGATACATTCGTAGTTGTGTAAGATTAATCAGCAATCGGGTCCATGGAAATCTCTCGTCAGATCTCTAAAGGGCTTAGATATGAGTCGGGGCCGATTCGTGGGCAAAGCAGTACAGATTTGCTCGGAAGATCATGACGACTCAGGGTACAACCCCAGATTAAGCTTAGGTCATACACGGACTAGTATAATGCAGTGAGTCACACAGTTCTAAACGGCTTCGCTATTCAGTGCCACTGTTGTATACAAACATACCGGCCAATCACTTCTCTACGGGTAAGTTGATCCTGTAGTTAATAATTCGGTGTCCCGCCGGTCAAGGAGAGGCGTTATGCGGACTTGGCATGGTTTCGATTCCTACTCAATACTCGGCATCCTCCCAGATCCCGTTCCAATGACTGTCTTGCCTGTGGATAGGCTACCCTTGTTCAGGGAGCGAAAAGCTGTAAAGCTTTCTCACCCCTATAATGCTTTTGTAGCTCTGGACAAGCACGATATCGTACGCACTGCTATTTCGGAGGGCTAACGCCTCTACCAGATGCTCCTACATAAAGCTAGATATTGAGCGGTTGCCCAGGTCTGGGGATCCAGAGGCCGCTTATGAAAATACGACCACTGGTGCTATCTACCTACTGTCAACTAATTTCTCATACCATTTTCGGTTACATCCCAGCCAGGGGAGTCAAATAACGAGGACGGCGAATATATGTGCACGATATGTCCTCCAAATCTCCGGGTCCGGTCATCGGATAGATCAGTCATTCTATGGGATGCAGCGAGTGGCATACTTGGAAATGGACCCCTAACCGCATACTAAAGCTGTCGTTGGTTCTACGCATTCCGCAGGATAAATGCGGTTTTTGGACTCCATCGTAATTCCCAGCTGATTAGACGGTGCACGTCTCACTCAGTTGTGGTAGGCTAGATTTTACTCGTATCCGGGACTCTAACTGGCACCGGACCGGCCAGTGTCGTTTCAGTGGACCCTCCGGTACCTGTGCTCATTGTAACTAGGAAGAGAATCGCGCGGTAATGCGTTCAACCTGACAGACG\n",
      "CGTCTGTCAGGTTGAACGCATTACCGCGCGATTCTCTTCCTAGTTACAATGAGCACAGGTACCGGAGGGTCCACTGAAACGACACTGGCCGGTCCGGTGCCAGTTAGAGTCCCGGATACGAGTAAAATCTAGCCTACCACAACTGAGTGAGACGTGCACCGTCTAATCAGCTGGGAATTACGATGGAGTCCAAAAACCGCATTTATCCTGCGGAATGCGTAGAACCAACGACAGCTTTAGTATGCGGTTAGGGGTCCATTTCCAAGTATGCCACTCGCTGCATCCCATAGAATGACTGATCTATCCGATGACCGGACCCGGAGATTTGGAGGACATATCGTGCACATATATTCGCCGTCCTCGTTATTTGACTCCCCTGGCTGGGATGTAACCGAAAATGGTATGAGAAATTAGTTGACAGTAGGTAGATAGCACCAGTGGTCGTATTTTCATAAGCGGCCTCTGGATCCCCAGACCTGGGCAACCGCTCAATATCTAGCTTTATGTAGGAGCATCTGGTAGAGGCGTTAGCCCTCCGAAATAGCAGTGCGTACGATATCGTGCTTGTCCAGAGCTACAAAAGCATTATAGGGGTGAGAAAGCTTTACAGCTTTTCGCTCCCTGAACAAGGGTAGCCTATCCACAGGCAAGACAGTCATTGGAACGGGATCTGGGAGGATGCCGAGTATTGAGTAGGAATCGAAACCATGCCAAGTCCGCATAACGCCTCTCCTTGACCGGCGGGACACCGAATTATTAACTACAGGATCAACTTACCCGTAGAGAAGTGATTGGCCGGTATGTTTGTATACAACAGTGGCACTGAATAGCGAAGCCGTTTAGAACTGTGTGACTCACTGCATTATACTAGTCCGTGTATGACCTAAGCTTAATCTGGGGTTGTACCCTGAGTCGTCATGATCTTCCGAGCAAATCTGTACTGCTTTGCCCACGAATCGGCCCCGACTCATATCTAAGCCCTTTAGAGATCTGACGAGAGATTTCCATGGACCCGATTGCTGATTAATCTTACACAACTACGAATGTATCTGGGGGTACAATTGATACCATCTTGACCAAATGGGATCGACTTCGAACTCCCACGCGGATTTCTCAATCGGAGTGTGAAAACAAGAA\n"
     ]
    }
   ],
   "source": [
    "txt=input()\n",
    "ans=\"\"\n",
    "for i in range(len(txt)-1,-1,-1):\n",
    "    if(txt[i]=='A'): ans+='T'\n",
    "    elif(txt[i]=='T'): ans+='A'\n",
    "    elif(txt[i]=='G'): ans+='C'\n",
    "    else: ans+='G'\n",
    "print(ans)"
   ]
  },
  {
   "cell_type": "markdown",
   "metadata": {},
   "source": [
    "## Problem 2 : Compute the Hamming distance between two DNA strings"
   ]
  },
  {
   "cell_type": "code",
   "execution_count": 38,
   "metadata": {},
   "outputs": [
    {
     "name": "stdout",
     "output_type": "stream",
     "text": [
      "GGGCCGTTGGT\n",
      "GGACCGTTGAC\n",
      "3\n"
     ]
    }
   ],
   "source": [
    "x = input()\n",
    "y = input()\n",
    "count=0\n",
    "for i in range(len(x)):\n",
    "    if(x[i]!=y[i]): count+=1\n",
    "print(count)"
   ]
  },
  {
   "cell_type": "markdown",
   "metadata": {},
   "source": [
    "## Problem 3 : Find all approximate occurrences of a pattern in a string"
   ]
  },
  {
   "cell_type": "code",
   "execution_count": 39,
   "metadata": {
    "scrolled": true
   },
   "outputs": [
    {
     "name": "stdout",
     "output_type": "stream",
     "text": [
      "ATTCTGGA\n",
      "CGCCCGAATCCAGAACGCATTCCCATATTTCGGGACCACTGGCCTCCACGGTACGGACGTCAATCAAATGCCTAGCGGCTTGTGGTTTCTCCTACGCTCC\n",
      "3\n",
      "6 7 26 27 78 "
     ]
    }
   ],
   "source": [
    "def distance(a,b):\n",
    "    count=0\n",
    "    for i in range(len(a)):\n",
    "        if(a[i]!=b[i]):count+=1\n",
    "    return count\n",
    "\n",
    "pat=input()\n",
    "txt=input()\n",
    "d=int(input())\n",
    "ans=[]\n",
    "for i in range(len(txt)-len(pat)+1):\n",
    "    dis=distance(pat,txt[i:i+len(pat)])\n",
    "    if(dis<=d):ans.append(i)\n",
    "\n",
    "for i in range(len(ans)):print(ans[i], end=\" \")\n",
    "    "
   ]
  },
  {
   "cell_type": "markdown",
   "metadata": {},
   "source": [
    "## Problem 4 : Find all the possible most frequent P with d mismatches in a the Text"
   ]
  },
  {
   "cell_type": "code",
   "execution_count": 47,
   "metadata": {},
   "outputs": [
    {
     "name": "stdout",
     "output_type": "stream",
     "text": [
      "ACGTTGCATGTCGCATGATGCATGAGAGCT\n",
      "4\n",
      "1\n",
      "ATGT\n",
      "GATG\n",
      "ATGC\n"
     ]
    }
   ],
   "source": [
    "def distance(a,b):\n",
    "    count=0\n",
    "    for i in range(len(a)):\n",
    "        if(a[i]!=b[i]):count+=1\n",
    "    return count\n",
    "\n",
    "txt=input()\n",
    "k=int(input())\n",
    "d=int(input())\n",
    "kmer=[]\n",
    "for i in range(len(txt)-k+1):\n",
    "    strng=\"\"\n",
    "    for j in range(i,i+k):\n",
    "        strng+=txt[j]\n",
    "    kmer.append(strng)\n",
    "\n",
    "# Frequency count with at most d mismatches\n",
    "k=[]\n",
    "v=[]\n",
    "for i in range(len(kmer)):\n",
    "    cur=kmer[i]\n",
    "    c=0\n",
    "    for j in range(len(kmer)):\n",
    "        if(distance(cur,kmer[j])<=d):\n",
    "            c+=1\n",
    "        k.append(cur)\n",
    "        v.append(c)\n",
    "# k=list(dis_lst.keys())\n",
    "# v=list(dis_lst.values())\n",
    "mx = max(v)\n",
    "ans=[]\n",
    "for i in range(len(v)):\n",
    "    if(v[i]==mx and k[i] not in ans):ans.append(k[i])\n",
    "for i in range(len(ans)):print(ans[i])"
   ]
  },
  {
   "cell_type": "markdown",
   "metadata": {},
   "source": [
    "## Problem 5 : Find all the possible most frequent P with d mismatches and reverse complements in the Text\n",
    "## NEED CLARIFICATION"
   ]
  },
  {
   "cell_type": "code",
   "execution_count": 75,
   "metadata": {},
   "outputs": [
    {
     "name": "stdout",
     "output_type": "stream",
     "text": [
      "ACGTTGCATGTCGCATGATGCATGAGAGCT\n",
      "4\n",
      "1\n",
      "3\n",
      "GCAT 3\n",
      "CATG 3\n",
      "GCAT 3\n",
      "CATG 3\n",
      "GCAT 3\n",
      "CATG 3\n"
     ]
    }
   ],
   "source": [
    "# function to find reverse compliment of string 's'\n",
    "def reverse(s):\n",
    "    ans=\"\"\n",
    "    for i in range(len(s)-1,-1,-1):\n",
    "        if(s[i]=='A'): ans+='T'\n",
    "        elif(s[i]=='T'): ans+='A'\n",
    "        elif(s[i]=='G'): ans+='C'\n",
    "        else: ans+='G'\n",
    "    return ans\n",
    "\n",
    "# function to find hamming distance between string 'a' and 'b'\n",
    "def distance(a,b):\n",
    "    count=0\n",
    "    for i in range(len(a)):\n",
    "        if(a[i]!=b[i]):count+=1\n",
    "    return count\n",
    "\n",
    "txt=input()\n",
    "k=int(input())\n",
    "d=int(input())\n",
    "kmer=[]\n",
    "\n",
    "# Creating k-mers whose reverse compliment exists in Text\n",
    "for i in range(0,len(txt)-k+1):\n",
    "    strng = \"\"\n",
    "    for j in range(i,i+k):\n",
    "        strng+=txt[j]\n",
    "    if(txt.find(reverse(strng))!=-1):\n",
    "        kmer.append(strng)\n",
    "# Validated\n",
    "        \n",
    "# Creating a list of occurance of kmers from previous list\n",
    "ans=[]\n",
    "freq=[]\n",
    "for i in kmer:\n",
    "    c=0\n",
    "    for j in kmer:\n",
    "        if(distance(i,j)<=d):c+=1\n",
    "    freq.append(c)\n",
    "mx=max(freq)\n",
    "print(mx)\n",
    "for i in range(len(kmer)):\n",
    "    if(freq[i]==mx):print(kmer[i]+\" \"+str(freq[i]))"
   ]
  },
  {
   "cell_type": "markdown",
   "metadata": {},
   "source": [
    "## Problem 5 (Incomplete) NEED CLARIFICATION"
   ]
  },
  {
   "cell_type": "code",
   "execution_count": 77,
   "metadata": {},
   "outputs": [
    {
     "name": "stdout",
     "output_type": "stream",
     "text": [
      "ACGTTGCATGTCGCATGATGCATGAGAGCT\n",
      "4\n",
      "1\n",
      "ACGT\n",
      "CGTT\n",
      "GTTG\n",
      "TTGC\n",
      "TGCA\n",
      "GCAT\n",
      "CATG\n",
      "ATGT\n",
      "TGTC\n",
      "GTCG\n",
      "TCGC\n",
      "CGCA\n",
      "GCAT\n",
      "CATG\n",
      "ATGA\n",
      "TGAT\n",
      "GATG\n",
      "ATGC\n",
      "TGCA\n",
      "GCAT\n",
      "CATG\n",
      "ATGA\n",
      "TGAG\n",
      "GAGA\n",
      "AGAG\n",
      "GAGC\n",
      "AGCT\n"
     ]
    }
   ],
   "source": [
    "# function to find reverse compliment of string 's'\n",
    "def reverse(s):\n",
    "    ans=\"\"\n",
    "    for i in range(len(s)-1,-1,-1):\n",
    "        if(s[i]=='A'): ans+='T'\n",
    "        elif(s[i]=='T'): ans+='A'\n",
    "        elif(s[i]=='G'): ans+='C'\n",
    "        else: ans+='G'\n",
    "    return ans\n",
    "\n",
    "# function to find hamming distance between string 'a' and 'b'\n",
    "def distance(a,b):\n",
    "    count=0\n",
    "    for i in range(len(a)):\n",
    "        if(a[i]!=b[i]):count+=1\n",
    "    return count\n",
    "\n",
    "txt=input()\n",
    "k=int(input())\n",
    "d=int(input())\n",
    "kmer=[]\n",
    "\n",
    "# Creating k-mers whose reverse compliment exists in Text\n",
    "for i in range(0,len(txt)-k+1):\n",
    "    strng = \"\"\n",
    "    for j in range(i,i+k):\n",
    "        strng+=txt[j]\n",
    "    kmer.append(strng)\n",
    "\n",
    "# 'freq' as Count list\n",
    "freq=[]\n",
    "for i in kmer:\n",
    "    c=0\n",
    "    for j in kmer:\n",
    "        if(distance(i,j)<=d):c+=1\n",
    "    freq.append(c)\n",
    "    \n",
    "# Filtering out using reverse string\n",
    "\n",
    "\n",
    "# Creating a list of occurance of kmers from previous list\n",
    "ans=[]\n",
    "freq=[]\n",
    "for i in kmer:\n",
    "    c=0\n",
    "    for j in kmer:\n",
    "        if(distance(i,j)<=d):c+=1\n",
    "    freq.append(c)\n",
    "mx=max(freq)\n",
    "print(mx)\n",
    "for i in range(len(kmer)):\n",
    "    if(freq[i]==mx):print(kmer[i]+\" \"+str(freq[i]))"
   ]
  },
  {
   "cell_type": "markdown",
   "metadata": {},
   "source": [
    "## Problem 6 : Convert a DNA string to a number"
   ]
  },
  {
   "cell_type": "code",
   "execution_count": 59,
   "metadata": {},
   "outputs": [
    {
     "name": "stdout",
     "output_type": "stream",
     "text": [
      "AGT\n",
      "11\n"
     ]
    }
   ],
   "source": [
    "dna=input()\n",
    "ls={'A':0, 'C':1,'G':2,'T':3}\n",
    "ans=0\n",
    "\n",
    "#Conversion from quternary to deciml\n",
    "for i in range(len(dna)):\n",
    "    ans+=ls[dna[i]]*pow(4,len(dna)-i-1)\n",
    "print(ans)"
   ]
  },
  {
   "cell_type": "markdown",
   "metadata": {},
   "source": [
    "## Problem 7 : Convert an integer to its corresponding DNA string"
   ]
  },
  {
   "cell_type": "code",
   "execution_count": 61,
   "metadata": {},
   "outputs": [
    {
     "name": "stdout",
     "output_type": "stream",
     "text": [
      "Enter the integer form :6415\n",
      "Enter length :11\n",
      "AAAACGCAATT"
     ]
    }
   ],
   "source": [
    "ls={ 0:'A',1:'C',2:'G',3:'T'}\n",
    "n=int(input(\"Enter the integer form :\"))\n",
    "k=int(input(\"Enter length :\"))\n",
    "ans=\"\"\n",
    "# Conversion from decimal to quternary\n",
    "for i in range(k):\n",
    "    ans+=ls[int(n%4)]\n",
    "    n=int(n/4)\n",
    "for i in range(len(ans)-1,-1,-1):print(ans[i], end=\"\")\n",
    "# ans = ans[::-1]\n",
    "# print(ans)"
   ]
  }
 ],
 "metadata": {
  "kernelspec": {
   "display_name": "Python 3",
   "language": "python",
   "name": "python3"
  },
  "language_info": {
   "codemirror_mode": {
    "name": "ipython",
    "version": 3
   },
   "file_extension": ".py",
   "mimetype": "text/x-python",
   "name": "python",
   "nbconvert_exporter": "python",
   "pygments_lexer": "ipython3",
   "version": "3.8.5"
  }
 },
 "nbformat": 4,
 "nbformat_minor": 4
}
