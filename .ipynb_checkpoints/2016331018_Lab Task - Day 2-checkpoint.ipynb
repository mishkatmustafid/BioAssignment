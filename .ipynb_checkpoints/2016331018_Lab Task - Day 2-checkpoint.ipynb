{
 "cells": [
  {
   "cell_type": "markdown",
   "metadata": {},
   "source": [
    "## Problem 1 : Find the reverse complement of a DNA string"
   ]
  },
  {
   "cell_type": "code",
   "execution_count": null,
   "metadata": {},
   "outputs": [],
   "source": [
    "txt=input()\n",
    "ans=\"\"\n",
    "for i in range(len(txt)-1,-1,-1):\n",
    "    if(txt[i]=='A'): ans+='T'\n",
    "    elif(txt[i]=='T'): ans+='A'\n",
    "    elif(txt[i]=='G'): ans+='C'\n",
    "    else: ans+='G'\n",
    "print(ans)"
   ]
  },
  {
   "cell_type": "markdown",
   "metadata": {},
   "source": [
    "## Problem 2 : Compute the Hamming distance between two DNA strings"
   ]
  },
  {
   "cell_type": "code",
   "execution_count": null,
   "metadata": {},
   "outputs": [],
   "source": [
    "x = input()\n",
    "y = input()\n",
    "count=0\n",
    "for i in range(len(x)):\n",
    "    if(x[i]!=y[i]): count+=1\n",
    "print(count)"
   ]
  },
  {
   "cell_type": "markdown",
   "metadata": {},
   "source": [
    "## Problem 3 : Find all approximate occurrences of a pattern in a string"
   ]
  },
  {
   "cell_type": "code",
   "execution_count": null,
   "metadata": {
    "scrolled": true
   },
   "outputs": [],
   "source": [
    "def distance(a,b):\n",
    "    count=0\n",
    "    for i in range(len(a)):\n",
    "        if(a[i]!=b[i]):count+=1\n",
    "    return count\n",
    "\n",
    "pat=input()\n",
    "txt=input()\n",
    "d=int(input())\n",
    "ans=[]\n",
    "for i in range(len(txt)-len(pat)+1):\n",
    "    dis=distance(pat,txt[i:i+len(pat)])\n",
    "    if(dis<=d):ans.append(i)\n",
    "\n",
    "for i in range(len(ans)):print(ans[i], end=\" \")\n",
    "    "
   ]
  },
  {
   "cell_type": "markdown",
   "metadata": {},
   "source": [
    "## Problem 4 : Find all the possible most frequent P with d mismatches in a the Text"
   ]
  },
  {
   "cell_type": "code",
   "execution_count": null,
   "metadata": {},
   "outputs": [],
   "source": [
    "def distance(a,b):\n",
    "    count=0\n",
    "    for i in range(len(a)):\n",
    "        if(a[i]!=b[i]):count+=1\n",
    "    return count\n",
    "\n",
    "txt=input()\n",
    "k=int(input())\n",
    "d=int(input())\n",
    "kmer=[]\n",
    "for i in range(len(txt)-k+1):\n",
    "    if(distance())"
   ]
  },
  {
   "cell_type": "markdown",
   "metadata": {},
   "source": [
    "## Problem 5 : Find all the possible most frequent P with d mismatches and reverse complements in the Text"
   ]
  },
  {
   "cell_type": "code",
   "execution_count": null,
   "metadata": {},
   "outputs": [],
   "source": [
    "# function to find reverse compliment of string 's'\n",
    "def reverse(s):\n",
    "    ans=\"\"\n",
    "    for i in range(len(s)-1,-1,-1):\n",
    "        if(s[i]=='A'): ans+='T'\n",
    "        elif(s[i]=='T'): ans+='A'\n",
    "        elif(s[i]=='G'): ans+='C'\n",
    "        else: ans+='G'\n",
    "    return ans\n",
    "\n",
    "# function to find hamming distance between string 'a' and 'b'\n",
    "def distance(a,b):\n",
    "    count=0\n",
    "    for i in range(len(a)):\n",
    "        if(a[i]!=b[i]):count+=1\n",
    "    return count\n",
    "\n",
    "txt=input()\n",
    "k=int(input())\n",
    "d=int(input())\n",
    "kmer=[]\n",
    "\n",
    "# Creating k-mers whose reverse compliment exists in Text\n",
    "for i in range(0,len(txt)-k+1):\n",
    "    strng = \"\"\n",
    "    for j in range(i,i+k):\n",
    "        strng+=txt[j]\n",
    "    if(txt.find(reverse(strng))!=-1):\n",
    "        kmer.append(strng)\n",
    "\n"
   ]
  },
  {
   "cell_type": "markdown",
   "metadata": {},
   "source": [
    "## Problem 6 : Convert a DNA string to a number"
   ]
  },
  {
   "cell_type": "code",
   "execution_count": 2,
   "metadata": {},
   "outputs": [
    {
     "name": "stdout",
     "output_type": "stream",
     "text": [
      "3\n"
     ]
    }
   ],
   "source": [
    "txt=input()\n"
   ]
  },
  {
   "cell_type": "markdown",
   "metadata": {},
   "source": [
    "## Problem 7 : Convert an integer to its corresponding DNA string"
   ]
  },
  {
   "cell_type": "code",
   "execution_count": null,
   "metadata": {},
   "outputs": [],
   "source": [
    "index=int(input())\n",
    "k=int(input())\n",
    "\n"
   ]
  }
 ],
 "metadata": {
  "kernelspec": {
   "display_name": "Python 3",
   "language": "python",
   "name": "python3"
  },
  "language_info": {
   "codemirror_mode": {
    "name": "ipython",
    "version": 3
   },
   "file_extension": ".py",
   "mimetype": "text/x-python",
   "name": "python",
   "nbconvert_exporter": "python",
   "pygments_lexer": "ipython3",
   "version": "3.8.5"
  }
 },
 "nbformat": 4,
 "nbformat_minor": 4
}
