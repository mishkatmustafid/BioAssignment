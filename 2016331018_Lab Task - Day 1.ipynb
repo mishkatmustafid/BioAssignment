{
 "cells": [
  {
   "cell_type": "markdown",
   "metadata": {},
   "source": [
    "## Problem 01 : Count the number of occurrences of a pattern from text"
   ]
  },
  {
   "cell_type": "code",
   "execution_count": null,
   "metadata": {},
   "outputs": [],
   "source": [
    "x = input()\n",
    "y = input()\n",
    "count = 0\n",
    "check = \"\"\n",
    "for i in range(0, len(x)-len(y)+1):\n",
    "    check = \"\"\n",
    "    for j in range(i, i+len(y)):\n",
    "        check = check + x[j]\n",
    "    if(check == y):\n",
    "        count = count + 1\n",
    "# while i < len(x):\n",
    "#     pos = x.find(y,i)\n",
    "#     if pos == -1:\n",
    "#         break\n",
    "#     count+=1\n",
    "#     i = pos + 1\n",
    "\n",
    "print(count)"
   ]
  },
  {
   "cell_type": "markdown",
   "metadata": {},
   "source": [
    "## Problem 2 : Find most frequent pattern of a particular length from text"
   ]
  },
  {
   "cell_type": "code",
   "execution_count": null,
   "metadata": {},
   "outputs": [],
   "source": [
    "txt = input()\n",
    "k = int(input())\n",
    "kmer=[]\n",
    "\n",
    "# Creating k-mers\n",
    "for i in range(0,len(txt)-k+1):\n",
    "    strng = \"\"\n",
    "    for j in range(i,i+k):\n",
    "        strng+=txt[j]\n",
    "    kmer.append(strng)\n",
    "\n",
    "# Frequency of the k-mers\n",
    "freq=[]\n",
    "for i in range(0, len(kmer)):\n",
    "    count=0\n",
    "    for j in range(i, len(kmer)):\n",
    "        if(kmer[i]==kmer[j]):count+=1\n",
    "    freq.append(count)\n",
    "\n",
    "# Find maximum frequency\n",
    "mx=0\n",
    "for i in range(0,len(freq)):\n",
    "    mx = max(mx,freq[i])\n",
    "    \n",
    "# Find most frequent k-mers and print\n",
    "ans=[]\n",
    "for i in range(0,len(kmer)):\n",
    "    if(freq[i]==mx):\n",
    "        ans.append(kmer[i])\n",
    "        print(kmer[i])"
   ]
  },
  {
   "cell_type": "markdown",
   "metadata": {},
   "source": [
    "## Problem 3 : Count the number of occurences of the different patterns of particular length from a text"
   ]
  },
  {
   "cell_type": "code",
   "execution_count": null,
   "metadata": {},
   "outputs": [],
   "source": [
    "txt = input()\n",
    "k = int(input())\n",
    "print(len(txt)-k+1)"
   ]
  },
  {
   "cell_type": "markdown",
   "metadata": {},
   "source": [
    "## Problem 4 : Multiplication of two Matrix"
   ]
  },
  {
   "cell_type": "code",
   "execution_count": null,
   "metadata": {},
   "outputs": [],
   "source": [
    "#input first matrix\n",
    "m1=int(input())\n",
    "n1=int(input())\n",
    "matrix1=[]\n",
    "for i in range(m1):\n",
    "    arr=[]\n",
    "    for j in range(n1):\n",
    "        arr.append(int(input()))\n",
    "    matrix1.append(arr)\n",
    "    \n",
    "#input second matrix\n",
    "m2=int(input())\n",
    "n2=int(input())\n",
    "matrix2=[]\n",
    "for i in range(m2):\n",
    "    arr=[]\n",
    "    for j in range(n2):\n",
    "        arr.append(int(input()))\n",
    "    matrix2.append(arr)\n",
    "\n",
    "# Multiplication\n",
    "ans=[]\n",
    "for i in range(len(matrix1)):\n",
    "    for j in range(len(matrix2)):\n",
    "        elmnt=0\n",
    "        for k in range(len(matrix2)):\n",
    "            elmnt+=matrix1[i][k] * matrix2[k][j]\n",
    "        ans.append(elmnt)\n",
    "t=0\n",
    "for i in range(m1):\n",
    "    for j in range(n2):\n",
    "        print(ans[t], end=\" \")\n",
    "        t+=1\n",
    "    print(\"\")"
   ]
  },
  {
   "cell_type": "markdown",
   "metadata": {},
   "source": [
    "## Problem 5 : Generate all possible pattern of length 3 of characters (a-z)"
   ]
  },
  {
   "cell_type": "code",
   "execution_count": null,
   "metadata": {},
   "outputs": [],
   "source": [
    "lst = []\n",
    "for i in range(ord('a'),ord('z')+1):\n",
    "    for j in range(ord('a'),ord('z')+1):\n",
    "        for k in range (ord('a'),ord('z')+1):\n",
    "            strng=chr(i)+chr(j)+chr(k)\n",
    "            lst.append(strng)\n",
    "print(len(lst))\n",
    "print(lst)"
   ]
  }
 ],
 "metadata": {
  "kernelspec": {
   "display_name": "Python 3",
   "language": "python",
   "name": "python3"
  },
  "language_info": {
   "codemirror_mode": {
    "name": "ipython",
    "version": 3
   },
   "file_extension": ".py",
   "mimetype": "text/x-python",
   "name": "python",
   "nbconvert_exporter": "python",
   "pygments_lexer": "ipython3",
   "version": "3.8.5"
  }
 },
 "nbformat": 4,
 "nbformat_minor": 4
}
